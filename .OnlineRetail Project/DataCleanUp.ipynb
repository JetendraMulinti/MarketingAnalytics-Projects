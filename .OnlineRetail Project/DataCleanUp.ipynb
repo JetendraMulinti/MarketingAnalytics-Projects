{
 "cells": [
  {
   "cell_type": "markdown",
   "id": "3d6fd1a4-3102-4b02-a209-475603d6d12b",
   "metadata": {},
   "source": [
    "#### Introduction\n",
    "\n",
    "1. Datalink: https://archive.ics.uci.edu/dataset/502/online+retail+ii\n",
    "2. Info: This Online Retail II data set contains all the transactions occurring for a UK-based and registered, non-store online retail between 01/12/2009 and 09/12/2011.The company mainly sells unique all-occasion gift-ware. Many customers of the company are wholesalers.\n",
    "\n",
    "The below code will help us for the data cleanup & generating Synthetic data for customer demographics and Null customer data."
   ]
  },
  {
   "cell_type": "code",
   "execution_count": 1,
   "id": "a3fb1d77-9e95-4bda-88f7-e087391ac079",
   "metadata": {},
   "outputs": [],
   "source": [
    "## Import Libraries\n",
    "\n",
    "import warnings\n",
    "warnings.filterwarnings('ignore')\n",
    "import pandas as pd\n",
    "import numpy as np\n",
    "import matplotlib.pyplot as plt\n",
    "import seaborn as sns"
   ]
  },
  {
   "cell_type": "code",
   "execution_count": 2,
   "id": "e9855af2-c6e8-4c10-b4ae-badd94a11ac6",
   "metadata": {},
   "outputs": [
    {
     "name": "stdout",
     "output_type": "stream",
     "text": [
      "No of rows: 1067371\n"
     ]
    },
    {
     "data": {
      "text/html": [
       "<div>\n",
       "<style scoped>\n",
       "    .dataframe tbody tr th:only-of-type {\n",
       "        vertical-align: middle;\n",
       "    }\n",
       "\n",
       "    .dataframe tbody tr th {\n",
       "        vertical-align: top;\n",
       "    }\n",
       "\n",
       "    .dataframe thead th {\n",
       "        text-align: right;\n",
       "    }\n",
       "</style>\n",
       "<table border=\"1\" class=\"dataframe\">\n",
       "  <thead>\n",
       "    <tr style=\"text-align: right;\">\n",
       "      <th></th>\n",
       "      <th>Invoice</th>\n",
       "      <th>StockCode</th>\n",
       "      <th>Description</th>\n",
       "      <th>Quantity</th>\n",
       "      <th>InvoiceDate</th>\n",
       "      <th>Price</th>\n",
       "      <th>Customer ID</th>\n",
       "      <th>Country</th>\n",
       "    </tr>\n",
       "  </thead>\n",
       "  <tbody>\n",
       "    <tr>\n",
       "      <th>0</th>\n",
       "      <td>489434</td>\n",
       "      <td>85048</td>\n",
       "      <td>15CM CHRISTMAS GLASS BALL 20 LIGHTS</td>\n",
       "      <td>12</td>\n",
       "      <td>2009-12-01 07:45:00</td>\n",
       "      <td>6.95</td>\n",
       "      <td>13085.0</td>\n",
       "      <td>United Kingdom</td>\n",
       "    </tr>\n",
       "    <tr>\n",
       "      <th>1</th>\n",
       "      <td>489434</td>\n",
       "      <td>79323P</td>\n",
       "      <td>PINK CHERRY LIGHTS</td>\n",
       "      <td>12</td>\n",
       "      <td>2009-12-01 07:45:00</td>\n",
       "      <td>6.75</td>\n",
       "      <td>13085.0</td>\n",
       "      <td>United Kingdom</td>\n",
       "    </tr>\n",
       "  </tbody>\n",
       "</table>\n",
       "</div>"
      ],
      "text/plain": [
       "  Invoice StockCode                          Description  Quantity  \\\n",
       "0  489434     85048  15CM CHRISTMAS GLASS BALL 20 LIGHTS        12   \n",
       "1  489434    79323P                   PINK CHERRY LIGHTS        12   \n",
       "\n",
       "          InvoiceDate  Price  Customer ID         Country  \n",
       "0 2009-12-01 07:45:00   6.95      13085.0  United Kingdom  \n",
       "1 2009-12-01 07:45:00   6.75      13085.0  United Kingdom  "
      ]
     },
     "execution_count": 2,
     "metadata": {},
     "output_type": "execute_result"
    }
   ],
   "source": [
    "df1 = pd.read_excel(r'online_retail_II.xlsx', sheet_name='Year 2009-2010')\n",
    "df2 = pd.read_excel(r'online_retail_II.xlsx', sheet_name='Year 2010-2011')\n",
    "\n",
    "df = df1.append(df2).reset_index(drop=True)\n",
    "print(\"No of rows:\", len(df))\n",
    "df.head(2)"
   ]
  },
  {
   "cell_type": "code",
   "execution_count": 3,
   "id": "aa55740a-fb7d-44a8-9380-701537c1aca9",
   "metadata": {},
   "outputs": [
    {
     "data": {
      "text/plain": [
       "United Kingdom          981330\n",
       "EIRE                     17866\n",
       "Germany                  17624\n",
       "France                   14330\n",
       "Netherlands               5140\n",
       "Spain                     3811\n",
       "Switzerland               3189\n",
       "Belgium                   3123\n",
       "Portugal                  2620\n",
       "Australia                 1913\n",
       "Channel Islands           1664\n",
       "Italy                     1534\n",
       "Norway                    1455\n",
       "Sweden                    1364\n",
       "Cyprus                    1176\n",
       "Finland                   1049\n",
       "Austria                    938\n",
       "Denmark                    817\n",
       "Unspecified                756\n",
       "Greece                     663\n",
       "Japan                      582\n",
       "Poland                     535\n",
       "USA                        535\n",
       "United Arab Emirates       500\n",
       "Israel                     371\n",
       "Hong Kong                  364\n",
       "Singapore                  346\n",
       "Malta                      299\n",
       "Iceland                    253\n",
       "Canada                     228\n",
       "Lithuania                  189\n",
       "RSA                        169\n",
       "Bahrain                    126\n",
       "Brazil                      94\n",
       "Thailand                    76\n",
       "Korea                       63\n",
       "European Community          61\n",
       "Lebanon                     58\n",
       "West Indies                 54\n",
       "Bermuda                     34\n",
       "Nigeria                     32\n",
       "Czech Republic              30\n",
       "Saudi Arabia                10\n",
       "Name: Country, dtype: int64"
      ]
     },
     "execution_count": 3,
     "metadata": {},
     "output_type": "execute_result"
    }
   ],
   "source": [
    "df['Country'].dropna().astype(str).value_counts()"
   ]
  },
  {
   "cell_type": "code",
   "execution_count": 4,
   "id": "8fe10c5f-285c-4e1f-80c1-a09f6b32d2a2",
   "metadata": {},
   "outputs": [],
   "source": [
    "#### UK country\n",
    "df = df[df['Country'] == 'United Kingdom'].reset_index(drop=True)"
   ]
  },
  {
   "cell_type": "code",
   "execution_count": 5,
   "id": "658517e7-1365-410f-8803-9e7f363cf038",
   "metadata": {},
   "outputs": [
    {
     "data": {
      "text/plain": [
       "Invoice         0.000000\n",
       "StockCode       0.000000\n",
       "Description     0.446537\n",
       "Quantity        0.000000\n",
       "InvoiceDate     0.000000\n",
       "Price           0.000000\n",
       "Customer ID    24.459560\n",
       "Country         0.000000\n",
       "dtype: float64"
      ]
     },
     "execution_count": 5,
     "metadata": {},
     "output_type": "execute_result"
    }
   ],
   "source": [
    "df.isnull().sum() / len(df) * 100"
   ]
  },
  {
   "cell_type": "code",
   "execution_count": 6,
   "id": "bc6ba961-5161-4851-a8a5-af2d94253916",
   "metadata": {},
   "outputs": [],
   "source": [
    "### Instead of dropping customer ID, we are creating synthetic data"
   ]
  },
  {
   "cell_type": "code",
   "execution_count": 7,
   "id": "e0fc625d-5dbd-4179-b0ce-2b6e6d89a96c",
   "metadata": {},
   "outputs": [
    {
     "data": {
      "text/html": [
       "<div>\n",
       "<style scoped>\n",
       "    .dataframe tbody tr th:only-of-type {\n",
       "        vertical-align: middle;\n",
       "    }\n",
       "\n",
       "    .dataframe tbody tr th {\n",
       "        vertical-align: top;\n",
       "    }\n",
       "\n",
       "    .dataframe thead th {\n",
       "        text-align: right;\n",
       "    }\n",
       "</style>\n",
       "<table border=\"1\" class=\"dataframe\">\n",
       "  <thead>\n",
       "    <tr style=\"text-align: right;\">\n",
       "      <th></th>\n",
       "      <th>Invoice</th>\n",
       "      <th>StockCode</th>\n",
       "      <th>Description</th>\n",
       "      <th>Quantity</th>\n",
       "      <th>InvoiceDate</th>\n",
       "      <th>Price</th>\n",
       "      <th>Customer ID</th>\n",
       "      <th>Country</th>\n",
       "    </tr>\n",
       "  </thead>\n",
       "  <tbody>\n",
       "    <tr>\n",
       "      <th>0</th>\n",
       "      <td>489434</td>\n",
       "      <td>85048</td>\n",
       "      <td>15CM CHRISTMAS GLASS BALL 20 LIGHTS</td>\n",
       "      <td>12</td>\n",
       "      <td>2009-12-01 07:45:00</td>\n",
       "      <td>6.95</td>\n",
       "      <td>13085.0</td>\n",
       "      <td>United Kingdom</td>\n",
       "    </tr>\n",
       "    <tr>\n",
       "      <th>1</th>\n",
       "      <td>489434</td>\n",
       "      <td>79323P</td>\n",
       "      <td>PINK CHERRY LIGHTS</td>\n",
       "      <td>12</td>\n",
       "      <td>2009-12-01 07:45:00</td>\n",
       "      <td>6.75</td>\n",
       "      <td>13085.0</td>\n",
       "      <td>United Kingdom</td>\n",
       "    </tr>\n",
       "    <tr>\n",
       "      <th>2</th>\n",
       "      <td>489434</td>\n",
       "      <td>79323W</td>\n",
       "      <td>WHITE CHERRY LIGHTS</td>\n",
       "      <td>12</td>\n",
       "      <td>2009-12-01 07:45:00</td>\n",
       "      <td>6.75</td>\n",
       "      <td>13085.0</td>\n",
       "      <td>United Kingdom</td>\n",
       "    </tr>\n",
       "    <tr>\n",
       "      <th>3</th>\n",
       "      <td>489434</td>\n",
       "      <td>22041</td>\n",
       "      <td>RECORD FRAME 7\" SINGLE SIZE</td>\n",
       "      <td>48</td>\n",
       "      <td>2009-12-01 07:45:00</td>\n",
       "      <td>2.10</td>\n",
       "      <td>13085.0</td>\n",
       "      <td>United Kingdom</td>\n",
       "    </tr>\n",
       "    <tr>\n",
       "      <th>4</th>\n",
       "      <td>489434</td>\n",
       "      <td>21232</td>\n",
       "      <td>STRAWBERRY CERAMIC TRINKET BOX</td>\n",
       "      <td>24</td>\n",
       "      <td>2009-12-01 07:45:00</td>\n",
       "      <td>1.25</td>\n",
       "      <td>13085.0</td>\n",
       "      <td>United Kingdom</td>\n",
       "    </tr>\n",
       "  </tbody>\n",
       "</table>\n",
       "</div>"
      ],
      "text/plain": [
       "  Invoice StockCode                          Description  Quantity  \\\n",
       "0  489434     85048  15CM CHRISTMAS GLASS BALL 20 LIGHTS        12   \n",
       "1  489434    79323P                   PINK CHERRY LIGHTS        12   \n",
       "2  489434    79323W                  WHITE CHERRY LIGHTS        12   \n",
       "3  489434     22041         RECORD FRAME 7\" SINGLE SIZE         48   \n",
       "4  489434     21232       STRAWBERRY CERAMIC TRINKET BOX        24   \n",
       "\n",
       "          InvoiceDate  Price Customer ID         Country  \n",
       "0 2009-12-01 07:45:00   6.95     13085.0  United Kingdom  \n",
       "1 2009-12-01 07:45:00   6.75     13085.0  United Kingdom  \n",
       "2 2009-12-01 07:45:00   6.75     13085.0  United Kingdom  \n",
       "3 2009-12-01 07:45:00   2.10     13085.0  United Kingdom  \n",
       "4 2009-12-01 07:45:00   1.25     13085.0  United Kingdom  "
      ]
     },
     "execution_count": 7,
     "metadata": {},
     "output_type": "execute_result"
    }
   ],
   "source": [
    "# Generate synthetic IDs for missing Customer IDs\n",
    "missing_ids_count = df['Customer ID'].isnull().sum()\n",
    "synthetic_ids = ['Synthetic_' + str(i) for i in range(1, missing_ids_count + 1)]\n",
    "\n",
    "# Map each invoice with a missing Customer ID to a unique synthetic Customer ID\n",
    "invoice_to_synthetic_id = {}\n",
    "synthetic_id_idx = 0\n",
    "\n",
    "for invoice_no in df.loc[df['Customer ID'].isnull(), 'Invoice'].unique():\n",
    "    invoice_to_synthetic_id[invoice_no] = synthetic_ids[synthetic_id_idx]\n",
    "    synthetic_id_idx += 1\n",
    "\n",
    "# Assign the synthetic IDs\n",
    "df['Customer ID'] = df.apply(\n",
    "    lambda row: invoice_to_synthetic_id[row['Invoice']] if pd.isnull(row['Customer ID']) else row['Customer ID'],\n",
    "    axis=1\n",
    ")\n",
    "\n",
    "# Convert Customer ID to string type\n",
    "df['Customer ID'] = df['Customer ID'].astype(str)\n",
    "\n",
    "df.head()"
   ]
  },
  {
   "cell_type": "code",
   "execution_count": 8,
   "id": "9cbef1fa-2864-4b8c-b5b8-5f010b6d5861",
   "metadata": {},
   "outputs": [
    {
     "data": {
      "text/html": [
       "<div>\n",
       "<style scoped>\n",
       "    .dataframe tbody tr th:only-of-type {\n",
       "        vertical-align: middle;\n",
       "    }\n",
       "\n",
       "    .dataframe tbody tr th {\n",
       "        vertical-align: top;\n",
       "    }\n",
       "\n",
       "    .dataframe thead th {\n",
       "        text-align: right;\n",
       "    }\n",
       "</style>\n",
       "<table border=\"1\" class=\"dataframe\">\n",
       "  <thead>\n",
       "    <tr style=\"text-align: right;\">\n",
       "      <th></th>\n",
       "      <th>Invoice</th>\n",
       "      <th>Customer ID</th>\n",
       "    </tr>\n",
       "  </thead>\n",
       "  <tbody>\n",
       "  </tbody>\n",
       "</table>\n",
       "</div>"
      ],
      "text/plain": [
       "Empty DataFrame\n",
       "Columns: [Invoice, Customer ID]\n",
       "Index: []"
      ]
     },
     "execution_count": 8,
     "metadata": {},
     "output_type": "execute_result"
    }
   ],
   "source": [
    "### Testing whether 1 Invoice will be having one Customer or not\n",
    "\n",
    "Test = df.groupby(['Invoice'])['Customer ID'].nunique().reset_index()\n",
    "Test[Test['Customer ID'] > 1]"
   ]
  },
  {
   "cell_type": "code",
   "execution_count": 9,
   "id": "00548458-42ba-4982-bdb2-a97b699158c2",
   "metadata": {},
   "outputs": [
    {
     "data": {
      "text/plain": [
       "Invoice        0.000000\n",
       "StockCode      0.000000\n",
       "Description    0.446537\n",
       "Quantity       0.000000\n",
       "InvoiceDate    0.000000\n",
       "Price          0.000000\n",
       "Customer ID    0.000000\n",
       "Country        0.000000\n",
       "dtype: float64"
      ]
     },
     "execution_count": 9,
     "metadata": {},
     "output_type": "execute_result"
    }
   ],
   "source": [
    "df.isnull().sum() / len(df) * 100"
   ]
  },
  {
   "cell_type": "code",
   "execution_count": 10,
   "id": "b5b57f3f-0506-4648-9062-ef3875950b3e",
   "metadata": {},
   "outputs": [],
   "source": [
    "#### drop null values\n",
    "df = df.dropna().reset_index(drop=True)"
   ]
  },
  {
   "cell_type": "code",
   "execution_count": 11,
   "id": "48472497-465d-4b0c-8ec1-bdc302bccc67",
   "metadata": {},
   "outputs": [
    {
     "name": "stdout",
     "output_type": "stream",
     "text": [
      "no of duplicate_rows Before :  32902\n",
      "no of duplicate_rows After:  0\n"
     ]
    }
   ],
   "source": [
    "# Counting duplicate rows\n",
    "duplicate_rows_before = df[df.duplicated()]\n",
    "print(\"no of duplicate_rows Before : \", len(duplicate_rows_before))\n",
    "\n",
    "# Remove duplicate rows\n",
    "df = df.drop_duplicates()\n",
    "duplicate_rows_after = df[df.duplicated()]\n",
    "print(\"no of duplicate_rows After: \", len(duplicate_rows_after))\n",
    "\n",
    "# Ensure all Customer IDs are strings and remove the '.0' suffix if present\n",
    "df['Customer ID'] = df['Customer ID'].astype(str).str.replace(r'\\.0$', '', regex=True)"
   ]
  },
  {
   "cell_type": "code",
   "execution_count": 12,
   "id": "462d2a16-b40e-49c6-b79a-5dbcee267435",
   "metadata": {},
   "outputs": [
    {
     "name": "stdout",
     "output_type": "stream",
     "text": [
      "<class 'pandas.core.frame.DataFrame'>\n",
      "Int64Index: 944046 entries, 0 to 976947\n",
      "Data columns (total 8 columns):\n",
      " #   Column       Non-Null Count   Dtype         \n",
      "---  ------       --------------   -----         \n",
      " 0   Invoice      944046 non-null  object        \n",
      " 1   StockCode    944046 non-null  object        \n",
      " 2   Description  944046 non-null  object        \n",
      " 3   Quantity     944046 non-null  int64         \n",
      " 4   InvoiceDate  944046 non-null  datetime64[ns]\n",
      " 5   Price        944046 non-null  float64       \n",
      " 6   Customer ID  944046 non-null  object        \n",
      " 7   Country      944046 non-null  object        \n",
      "dtypes: datetime64[ns](1), float64(1), int64(1), object(5)\n",
      "memory usage: 64.8+ MB\n"
     ]
    }
   ],
   "source": [
    "df.info()"
   ]
  },
  {
   "cell_type": "code",
   "execution_count": 13,
   "id": "f08f854d-88b3-4502-ac51-6d7806ba1561",
   "metadata": {},
   "outputs": [],
   "source": [
    "#### Make sure there are no negative values for the Price and Quantity\n",
    "\n",
    "df['Price'] = df['Price'].abs()\n",
    "df['Quantity'] = df['Quantity'].abs()"
   ]
  },
  {
   "cell_type": "code",
   "execution_count": 14,
   "id": "e66c6b8e-5e1a-467a-bb53-f1b942eac8cb",
   "metadata": {},
   "outputs": [
    {
     "name": "stdout",
     "output_type": "stream",
     "text": [
      "No of orders with price 0 Before:  1712\n",
      "No of orders with price 0 After:  0\n"
     ]
    }
   ],
   "source": [
    "#### As the Price can't be zero for any invoice / order we are excluding them as of limited data\n",
    "\n",
    "print(\"No of orders with price 0 Before: \",len(df[df['Price'].abs() == 0]))\n",
    "\n",
    "df = df[df['Price'].abs() != 0].reset_index(drop=True)\n",
    "\n",
    "print(\"No of orders with price 0 After: \",len(df[df['Price'].abs() == 0]))"
   ]
  },
  {
   "cell_type": "code",
   "execution_count": 15,
   "id": "acb76a0c-ac94-4c93-a542-47109618af7e",
   "metadata": {},
   "outputs": [
    {
     "data": {
      "text/plain": [
       "Invoice        0.0\n",
       "StockCode      0.0\n",
       "Description    0.0\n",
       "Quantity       0.0\n",
       "InvoiceDate    0.0\n",
       "Price          0.0\n",
       "Customer ID    0.0\n",
       "Country        0.0\n",
       "dtype: float64"
      ]
     },
     "execution_count": 15,
     "metadata": {},
     "output_type": "execute_result"
    }
   ],
   "source": [
    "#### Checking null values\n",
    "\n",
    "df.isnull().sum() / len(df) * 100"
   ]
  },
  {
   "cell_type": "code",
   "execution_count": 16,
   "id": "f5e82ccc-3fbb-492e-bc65-140dfb6e11fc",
   "metadata": {},
   "outputs": [
    {
     "data": {
      "text/html": [
       "<div>\n",
       "<style scoped>\n",
       "    .dataframe tbody tr th:only-of-type {\n",
       "        vertical-align: middle;\n",
       "    }\n",
       "\n",
       "    .dataframe tbody tr th {\n",
       "        vertical-align: top;\n",
       "    }\n",
       "\n",
       "    .dataframe thead th {\n",
       "        text-align: right;\n",
       "    }\n",
       "</style>\n",
       "<table border=\"1\" class=\"dataframe\">\n",
       "  <thead>\n",
       "    <tr style=\"text-align: right;\">\n",
       "      <th></th>\n",
       "      <th>CustomerID</th>\n",
       "      <th>State</th>\n",
       "      <th>Age</th>\n",
       "      <th>Gender</th>\n",
       "      <th>Country</th>\n",
       "    </tr>\n",
       "  </thead>\n",
       "  <tbody>\n",
       "    <tr>\n",
       "      <th>0</th>\n",
       "      <td>13085</td>\n",
       "      <td>England</td>\n",
       "      <td>54</td>\n",
       "      <td>Male</td>\n",
       "      <td>United Kingdom</td>\n",
       "    </tr>\n",
       "    <tr>\n",
       "      <th>1</th>\n",
       "      <td>13078</td>\n",
       "      <td>Wales</td>\n",
       "      <td>40</td>\n",
       "      <td>Female</td>\n",
       "      <td>United Kingdom</td>\n",
       "    </tr>\n",
       "    <tr>\n",
       "      <th>2</th>\n",
       "      <td>15362</td>\n",
       "      <td>England</td>\n",
       "      <td>46</td>\n",
       "      <td>Female</td>\n",
       "      <td>United Kingdom</td>\n",
       "    </tr>\n",
       "    <tr>\n",
       "      <th>3</th>\n",
       "      <td>18102</td>\n",
       "      <td>England</td>\n",
       "      <td>33</td>\n",
       "      <td>Female</td>\n",
       "      <td>United Kingdom</td>\n",
       "    </tr>\n",
       "    <tr>\n",
       "      <th>4</th>\n",
       "      <td>18087</td>\n",
       "      <td>England</td>\n",
       "      <td>34</td>\n",
       "      <td>Female</td>\n",
       "      <td>United Kingdom</td>\n",
       "    </tr>\n",
       "  </tbody>\n",
       "</table>\n",
       "</div>"
      ],
      "text/plain": [
       "  CustomerID    State  Age  Gender         Country\n",
       "0      13085  England   54    Male  United Kingdom\n",
       "1      13078    Wales   40  Female  United Kingdom\n",
       "2      15362  England   46  Female  United Kingdom\n",
       "3      18102  England   33  Female  United Kingdom\n",
       "4      18087  England   34  Female  United Kingdom"
      ]
     },
     "execution_count": 16,
     "metadata": {},
     "output_type": "execute_result"
    }
   ],
   "source": [
    "# Sample existing customer data\n",
    "customer_data = pd.DataFrame({\n",
    "    'CustomerID': df['Customer ID'].astype(str).unique()\n",
    "})\n",
    "\n",
    "# States distribution\n",
    "states = ['England', 'Scotland', 'Wales', 'Northern Ireland']\n",
    "state_probs = [0.84, 0.08, 0.05, 0.03]\n",
    "\n",
    "# Age distribution\n",
    "age_mean = 40\n",
    "age_std = 15\n",
    "age_min = 18\n",
    "age_max = 70\n",
    "\n",
    "# Gender distribution\n",
    "genders = ['Male', 'Female', 'Other']\n",
    "gender_probs = [0.49, 0.49, 0.02]\n",
    "\n",
    "# Generating synthetic data\n",
    "np.random.seed(42)  # For reproducibility\n",
    "\n",
    "customer_data['State'] = np.random.choice(states, size=len(customer_data), p=state_probs)\n",
    "customer_data['Age'] = np.clip(np.random.normal(age_mean, age_std, len(customer_data)).astype(int), age_min, age_max)\n",
    "customer_data['Gender'] = np.random.choice(genders, size=len(customer_data), p=gender_probs)\n",
    "customer_data['Country'] = 'United Kingdom'\n",
    "\n",
    "# Displaying the synthetic data\n",
    "customer_data.head()"
   ]
  },
  {
   "cell_type": "markdown",
   "id": "06fbe0c4-f82a-4a44-a526-be91ff2d35c9",
   "metadata": {},
   "source": [
    "#### States Distribution:\n",
    "1. Assigns states based on a realistic probability distribution of the UK population.\n",
    "\n",
    "#### Age Distribution:\n",
    "1. Generates ages using a normal distribution and clips values to stay within a realistic range.\n",
    "\n",
    "#### Gender Distribution:\n",
    "1. Assigns genders based on realistic proportions."
   ]
  },
  {
   "cell_type": "code",
   "execution_count": 17,
   "id": "22ec44b2-2d5b-4828-8d23-dc86c348be81",
   "metadata": {},
   "outputs": [
    {
     "name": "stdout",
     "output_type": "stream",
     "text": [
      "No of Customers:  8762\n",
      "No of rows:  942334\n"
     ]
    }
   ],
   "source": [
    "#### save the data\n",
    "customer_data.to_csv('CustomerData.csv', index=False)\n",
    "df.to_csv(r'OnlineRetail.csv', index=False)\n",
    "\n",
    "print(\"No of Customers: \", len(customer_data))\n",
    "print(\"No of rows: \", len(df))"
   ]
  },
  {
   "cell_type": "code",
   "execution_count": null,
   "id": "3a6e8b80-0c93-4a79-ab8b-e62e2cb08bfa",
   "metadata": {},
   "outputs": [],
   "source": []
  }
 ],
 "metadata": {
  "kernelspec": {
   "display_name": "Python 3 (ipykernel)",
   "language": "python",
   "name": "python3"
  },
  "language_info": {
   "codemirror_mode": {
    "name": "ipython",
    "version": 3
   },
   "file_extension": ".py",
   "mimetype": "text/x-python",
   "name": "python",
   "nbconvert_exporter": "python",
   "pygments_lexer": "ipython3",
   "version": "3.9.16"
  }
 },
 "nbformat": 4,
 "nbformat_minor": 5
}
