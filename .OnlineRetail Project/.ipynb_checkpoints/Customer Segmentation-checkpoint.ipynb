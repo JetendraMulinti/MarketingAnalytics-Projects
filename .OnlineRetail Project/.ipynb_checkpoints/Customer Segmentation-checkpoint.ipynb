{
 "cells": [
  {
   "cell_type": "code",
   "execution_count": 1,
   "id": "c6171393-dccc-4b6a-8284-7d6cf20e806d",
   "metadata": {},
   "outputs": [],
   "source": [
    "## Import Libraries\n",
    "\n",
    "import warnings\n",
    "warnings.filterwarnings('ignore')\n",
    "import pandas as pd\n",
    "import numpy as np\n",
    "import matplotlib.pyplot as plt\n",
    "import seaborn as sns"
   ]
  },
  {
   "cell_type": "code",
   "execution_count": 2,
   "id": "e7f6f5b1-b96d-49c0-8251-828d63ac39e2",
   "metadata": {},
   "outputs": [
    {
     "name": "stdout",
     "output_type": "stream",
     "text": [
      "No of rows: 942334\n",
      "No of customers: 8762\n"
     ]
    },
    {
     "data": {
      "text/html": [
       "<div>\n",
       "<style scoped>\n",
       "    .dataframe tbody tr th:only-of-type {\n",
       "        vertical-align: middle;\n",
       "    }\n",
       "\n",
       "    .dataframe tbody tr th {\n",
       "        vertical-align: top;\n",
       "    }\n",
       "\n",
       "    .dataframe thead th {\n",
       "        text-align: right;\n",
       "    }\n",
       "</style>\n",
       "<table border=\"1\" class=\"dataframe\">\n",
       "  <thead>\n",
       "    <tr style=\"text-align: right;\">\n",
       "      <th></th>\n",
       "      <th>Invoice</th>\n",
       "      <th>StockCode</th>\n",
       "      <th>Description</th>\n",
       "      <th>Quantity</th>\n",
       "      <th>InvoiceDate</th>\n",
       "      <th>Price</th>\n",
       "      <th>Customer ID</th>\n",
       "      <th>Country</th>\n",
       "    </tr>\n",
       "  </thead>\n",
       "  <tbody>\n",
       "    <tr>\n",
       "      <th>0</th>\n",
       "      <td>489434</td>\n",
       "      <td>85048</td>\n",
       "      <td>15CM CHRISTMAS GLASS BALL 20 LIGHTS</td>\n",
       "      <td>12</td>\n",
       "      <td>2009-12-01 07:45:00</td>\n",
       "      <td>6.95</td>\n",
       "      <td>13085</td>\n",
       "      <td>United Kingdom</td>\n",
       "    </tr>\n",
       "    <tr>\n",
       "      <th>1</th>\n",
       "      <td>489434</td>\n",
       "      <td>79323P</td>\n",
       "      <td>PINK CHERRY LIGHTS</td>\n",
       "      <td>12</td>\n",
       "      <td>2009-12-01 07:45:00</td>\n",
       "      <td>6.75</td>\n",
       "      <td>13085</td>\n",
       "      <td>United Kingdom</td>\n",
       "    </tr>\n",
       "  </tbody>\n",
       "</table>\n",
       "</div>"
      ],
      "text/plain": [
       "  Invoice StockCode                          Description  Quantity  \\\n",
       "0  489434     85048  15CM CHRISTMAS GLASS BALL 20 LIGHTS        12   \n",
       "1  489434    79323P                   PINK CHERRY LIGHTS        12   \n",
       "\n",
       "           InvoiceDate  Price Customer ID         Country  \n",
       "0  2009-12-01 07:45:00   6.95       13085  United Kingdom  \n",
       "1  2009-12-01 07:45:00   6.75       13085  United Kingdom  "
      ]
     },
     "execution_count": 2,
     "metadata": {},
     "output_type": "execute_result"
    }
   ],
   "source": [
    "df = pd.read_csv(r'OnlineRetail.csv')\n",
    "Cust_df = pd.read_csv(r'CustomerData.csv')\n",
    "\n",
    "print(\"No of rows:\", len(df))\n",
    "print(\"No of customers:\", len(Cust_df))\n",
    "df.head(2)"
   ]
  },
  {
   "cell_type": "code",
   "execution_count": 3,
   "id": "d063755d-5ada-48f4-ad71-65a880f2b9a8",
   "metadata": {},
   "outputs": [
    {
     "data": {
      "text/html": [
       "<div>\n",
       "<style scoped>\n",
       "    .dataframe tbody tr th:only-of-type {\n",
       "        vertical-align: middle;\n",
       "    }\n",
       "\n",
       "    .dataframe tbody tr th {\n",
       "        vertical-align: top;\n",
       "    }\n",
       "\n",
       "    .dataframe thead th {\n",
       "        text-align: right;\n",
       "    }\n",
       "</style>\n",
       "<table border=\"1\" class=\"dataframe\">\n",
       "  <thead>\n",
       "    <tr style=\"text-align: right;\">\n",
       "      <th></th>\n",
       "      <th>CustomerID</th>\n",
       "      <th>State</th>\n",
       "      <th>Age</th>\n",
       "      <th>Gender</th>\n",
       "      <th>Country</th>\n",
       "    </tr>\n",
       "  </thead>\n",
       "  <tbody>\n",
       "    <tr>\n",
       "      <th>0</th>\n",
       "      <td>13085</td>\n",
       "      <td>England</td>\n",
       "      <td>54</td>\n",
       "      <td>Male</td>\n",
       "      <td>United Kingdom</td>\n",
       "    </tr>\n",
       "    <tr>\n",
       "      <th>1</th>\n",
       "      <td>13078</td>\n",
       "      <td>Wales</td>\n",
       "      <td>40</td>\n",
       "      <td>Female</td>\n",
       "      <td>United Kingdom</td>\n",
       "    </tr>\n",
       "  </tbody>\n",
       "</table>\n",
       "</div>"
      ],
      "text/plain": [
       "  CustomerID    State  Age  Gender         Country\n",
       "0      13085  England   54    Male  United Kingdom\n",
       "1      13078    Wales   40  Female  United Kingdom"
      ]
     },
     "execution_count": 3,
     "metadata": {},
     "output_type": "execute_result"
    }
   ],
   "source": [
    "Cust_df.head(2)"
   ]
  },
  {
   "cell_type": "code",
   "execution_count": 4,
   "id": "b5f2addc-9cc7-4e96-96bf-e7db6ece9711",
   "metadata": {},
   "outputs": [],
   "source": [
    "def summary_statistics(df):\n",
    "    numerical_summary = df.describe()\n",
    "    categorical_summary = df.describe(include=['object', 'category'])\n",
    "    return numerical_summary, categorical_summary\n",
    "\n",
    "# Generate summary statistics for both datasets\n",
    "customer_data_summary = summary_statistics(Cust_df)\n",
    "online_retail_data_summary = summary_statistics(df)"
   ]
  },
  {
   "cell_type": "code",
   "execution_count": 5,
   "id": "d45ff5fe-38d1-45c6-afd5-83d6f73c9eb3",
   "metadata": {},
   "outputs": [
    {
     "data": {
      "text/plain": [
       "(               Age\n",
       " count  8762.000000\n",
       " mean     40.027505\n",
       " std      13.722129\n",
       " min      18.000000\n",
       " 25%      30.000000\n",
       " 50%      40.000000\n",
       " 75%      50.000000\n",
       " max      70.000000,\n",
       "        CustomerID    State  Gender         Country\n",
       " count        8762     8762    8762            8762\n",
       " unique       8762        4       3               1\n",
       " top         13085  England  Female  United Kingdom\n",
       " freq            1     7406    4329            8762)"
      ]
     },
     "execution_count": 5,
     "metadata": {},
     "output_type": "execute_result"
    }
   ],
   "source": [
    "customer_data_summary"
   ]
  },
  {
   "cell_type": "code",
   "execution_count": 6,
   "id": "ffa89ef4-3734-469e-ada4-b3b64e6350c1",
   "metadata": {},
   "outputs": [
    {
     "data": {
      "text/plain": [
       "(            Quantity          Price\n",
       " count  942334.000000  942334.000000\n",
       " mean       10.125910       4.859276\n",
       " std       168.038673     125.927035\n",
       " min         1.000000       0.001000\n",
       " 25%         1.000000       1.250000\n",
       " 50%         3.000000       2.100000\n",
       " 75%        10.000000       4.150000\n",
       " max     80995.000000   53594.360000,\n",
       "        Invoice StockCode                         Description  \\\n",
       " count   942334    942334                              942334   \n",
       " unique   43855      4921                                5385   \n",
       " top     573585    85123A  WHITE HANGING HEART T-LIGHT HOLDER   \n",
       " freq      1114      5433                                5523   \n",
       " \n",
       "                 InvoiceDate Customer ID         Country  \n",
       " count                942334      942334          942334  \n",
       " unique                40485        8762               1  \n",
       " top     2011-10-31 14:41:00       17841  United Kingdom  \n",
       " freq                   1114       12638          942334  )"
      ]
     },
     "execution_count": 6,
     "metadata": {},
     "output_type": "execute_result"
    }
   ],
   "source": [
    "online_retail_data_summary"
   ]
  },
  {
   "cell_type": "code",
   "execution_count": 7,
   "id": "4c880061-0157-4098-8334-543b8c0124ba",
   "metadata": {},
   "outputs": [
    {
     "data": {
      "text/html": [
       "<div>\n",
       "<style scoped>\n",
       "    .dataframe tbody tr th:only-of-type {\n",
       "        vertical-align: middle;\n",
       "    }\n",
       "\n",
       "    .dataframe tbody tr th {\n",
       "        vertical-align: top;\n",
       "    }\n",
       "\n",
       "    .dataframe thead th {\n",
       "        text-align: right;\n",
       "    }\n",
       "</style>\n",
       "<table border=\"1\" class=\"dataframe\">\n",
       "  <thead>\n",
       "    <tr style=\"text-align: right;\">\n",
       "      <th></th>\n",
       "      <th>StockCode</th>\n",
       "      <th>Description</th>\n",
       "    </tr>\n",
       "  </thead>\n",
       "  <tbody>\n",
       "    <tr>\n",
       "      <th>29</th>\n",
       "      <td>15058A</td>\n",
       "      <td>2</td>\n",
       "    </tr>\n",
       "    <tr>\n",
       "      <th>30</th>\n",
       "      <td>15058B</td>\n",
       "      <td>2</td>\n",
       "    </tr>\n",
       "    <tr>\n",
       "      <th>37</th>\n",
       "      <td>16011</td>\n",
       "      <td>2</td>\n",
       "    </tr>\n",
       "    <tr>\n",
       "      <th>38</th>\n",
       "      <td>16012</td>\n",
       "      <td>2</td>\n",
       "    </tr>\n",
       "    <tr>\n",
       "      <th>57</th>\n",
       "      <td>16151A</td>\n",
       "      <td>2</td>\n",
       "    </tr>\n",
       "    <tr>\n",
       "      <th>...</th>\n",
       "      <td>...</td>\n",
       "      <td>...</td>\n",
       "    </tr>\n",
       "    <tr>\n",
       "      <th>4505</th>\n",
       "      <td>90014B</td>\n",
       "      <td>2</td>\n",
       "    </tr>\n",
       "    <tr>\n",
       "      <th>4506</th>\n",
       "      <td>90014C</td>\n",
       "      <td>2</td>\n",
       "    </tr>\n",
       "    <tr>\n",
       "      <th>4845</th>\n",
       "      <td>90208</td>\n",
       "      <td>2</td>\n",
       "    </tr>\n",
       "    <tr>\n",
       "      <th>4881</th>\n",
       "      <td>ADJUST</td>\n",
       "      <td>3</td>\n",
       "    </tr>\n",
       "    <tr>\n",
       "      <th>4885</th>\n",
       "      <td>BANK CHARGES</td>\n",
       "      <td>2</td>\n",
       "    </tr>\n",
       "  </tbody>\n",
       "</table>\n",
       "<p>633 rows × 2 columns</p>\n",
       "</div>"
      ],
      "text/plain": [
       "         StockCode  Description\n",
       "29          15058A            2\n",
       "30          15058B            2\n",
       "37           16011            2\n",
       "38           16012            2\n",
       "57          16151A            2\n",
       "...            ...          ...\n",
       "4505        90014B            2\n",
       "4506        90014C            2\n",
       "4845         90208            2\n",
       "4881        ADJUST            3\n",
       "4885  BANK CHARGES            2\n",
       "\n",
       "[633 rows x 2 columns]"
      ]
     },
     "execution_count": 7,
     "metadata": {},
     "output_type": "execute_result"
    }
   ],
   "source": [
    "Test = df.groupby(['StockCode'])['Description'].nunique().reset_index()\n",
    "Test[Test['Description'] > 1]"
   ]
  },
  {
   "cell_type": "code",
   "execution_count": 8,
   "id": "a77c4823-a5a2-4e39-9561-241290297bf2",
   "metadata": {},
   "outputs": [
    {
     "data": {
      "text/plain": [
       "BLUE POLKADOT GARDEN PARASOL       84\n",
       "BLUE WHITE SPOTS GARDEN PARASOL    58\n",
       "Name: Description, dtype: int64"
      ]
     },
     "execution_count": 8,
     "metadata": {},
     "output_type": "execute_result"
    }
   ],
   "source": [
    "df[df['StockCode'] == '15058A']['Description'].value_counts()"
   ]
  },
  {
   "cell_type": "code",
   "execution_count": 9,
   "id": "ef593520-00fc-4cd4-bf11-5c5b95816f89",
   "metadata": {},
   "outputs": [
    {
     "data": {
      "text/html": [
       "<div>\n",
       "<style scoped>\n",
       "    .dataframe tbody tr th:only-of-type {\n",
       "        vertical-align: middle;\n",
       "    }\n",
       "\n",
       "    .dataframe tbody tr th {\n",
       "        vertical-align: top;\n",
       "    }\n",
       "\n",
       "    .dataframe thead th {\n",
       "        text-align: right;\n",
       "    }\n",
       "</style>\n",
       "<table border=\"1\" class=\"dataframe\">\n",
       "  <thead>\n",
       "    <tr style=\"text-align: right;\">\n",
       "      <th></th>\n",
       "      <th>Invoice</th>\n",
       "      <th>StockCode</th>\n",
       "      <th>Description</th>\n",
       "      <th>Quantity</th>\n",
       "      <th>InvoiceDate</th>\n",
       "      <th>Price</th>\n",
       "      <th>Customer ID</th>\n",
       "      <th>Country</th>\n",
       "    </tr>\n",
       "  </thead>\n",
       "  <tbody>\n",
       "    <tr>\n",
       "      <th>0</th>\n",
       "      <td>489434</td>\n",
       "      <td>85048</td>\n",
       "      <td>15CM CHRISTMAS GLASS BALL 20 LIGHTS</td>\n",
       "      <td>12</td>\n",
       "      <td>2009-12-01 07:45:00</td>\n",
       "      <td>6.95</td>\n",
       "      <td>13085</td>\n",
       "      <td>United Kingdom</td>\n",
       "    </tr>\n",
       "    <tr>\n",
       "      <th>1</th>\n",
       "      <td>489434</td>\n",
       "      <td>79323P</td>\n",
       "      <td>PINK CHERRY LIGHTS</td>\n",
       "      <td>12</td>\n",
       "      <td>2009-12-01 07:45:00</td>\n",
       "      <td>6.75</td>\n",
       "      <td>13085</td>\n",
       "      <td>United Kingdom</td>\n",
       "    </tr>\n",
       "  </tbody>\n",
       "</table>\n",
       "</div>"
      ],
      "text/plain": [
       "  Invoice StockCode                          Description  Quantity  \\\n",
       "0  489434     85048  15CM CHRISTMAS GLASS BALL 20 LIGHTS        12   \n",
       "1  489434    79323P                   PINK CHERRY LIGHTS        12   \n",
       "\n",
       "           InvoiceDate  Price Customer ID         Country  \n",
       "0  2009-12-01 07:45:00   6.95       13085  United Kingdom  \n",
       "1  2009-12-01 07:45:00   6.75       13085  United Kingdom  "
      ]
     },
     "execution_count": 9,
     "metadata": {},
     "output_type": "execute_result"
    }
   ],
   "source": [
    "##### Based on summary stats we cleaned the description column as 1 stock code has 1 description\n",
    "\n",
    "def clean_descriptions_with_max_counts(df):\n",
    "    # Get the most frequent description for each stock code\n",
    "    most_frequent_descriptions = df.groupby('StockCode')['Description'].agg(lambda x: x.value_counts().idxmax())\n",
    "    \n",
    "    # Map the most frequent description to the dataframe\n",
    "    df['Description'] = df['StockCode'].map(most_frequent_descriptions)\n",
    "    \n",
    "    return df\n",
    "\n",
    "# Apply the function to clean the descriptions\n",
    "df = clean_descriptions_with_max_counts(df)\n",
    "\n",
    "df.head(2)"
   ]
  },
  {
   "cell_type": "code",
   "execution_count": 10,
   "id": "62ec4974-bfe3-4758-85f1-9ef96993829d",
   "metadata": {},
   "outputs": [
    {
     "data": {
      "text/plain": [
       "(            Quantity          Price\n",
       " count  942334.000000  942334.000000\n",
       " mean       10.125910       4.859276\n",
       " std       168.038673     125.927035\n",
       " min         1.000000       0.001000\n",
       " 25%         1.000000       1.250000\n",
       " 50%         3.000000       2.100000\n",
       " 75%        10.000000       4.150000\n",
       " max     80995.000000   53594.360000,\n",
       "        Invoice StockCode                         Description  \\\n",
       " count   942334    942334                              942334   \n",
       " unique   43855      4921                                4734   \n",
       " top     573585    85123A  WHITE HANGING HEART T-LIGHT HOLDER   \n",
       " freq      1114      5433                                5532   \n",
       " \n",
       "                 InvoiceDate Customer ID         Country  \n",
       " count                942334      942334          942334  \n",
       " unique                40485        8762               1  \n",
       " top     2011-10-31 14:41:00       17841  United Kingdom  \n",
       " freq                   1114       12638          942334  )"
      ]
     },
     "execution_count": 10,
     "metadata": {},
     "output_type": "execute_result"
    }
   ],
   "source": [
    "#### Summary for the online_retail data\n",
    "online_retail_data_summary = summary_statistics(df)\n",
    "online_retail_data_summary"
   ]
  },
  {
   "cell_type": "code",
   "execution_count": 11,
   "id": "0387831d-9280-4e8e-b6a9-3ad210513e7c",
   "metadata": {},
   "outputs": [
    {
     "data": {
      "text/plain": [
       "(               Age\n",
       " count  8762.000000\n",
       " mean     40.027505\n",
       " std      13.722129\n",
       " min      18.000000\n",
       " 25%      30.000000\n",
       " 50%      40.000000\n",
       " 75%      50.000000\n",
       " max      70.000000,\n",
       "        CustomerID    State  Gender         Country\n",
       " count        8762     8762    8762            8762\n",
       " unique       8762        4       3               1\n",
       " top         13085  England  Female  United Kingdom\n",
       " freq            1     7406    4329            8762)"
      ]
     },
     "execution_count": 11,
     "metadata": {},
     "output_type": "execute_result"
    }
   ],
   "source": [
    "customer_data_summary"
   ]
  },
  {
   "cell_type": "markdown",
   "id": "51907fd2-bbbe-47da-b94a-a2635040ab9e",
   "metadata": {},
   "source": [
    "#### Summary Stats\n",
    "\n",
    "1. High Variability in Purchase Quantities: The quantity of items purchased per transaction varies widely, indicating diverse buying behaviors among customers.\n",
    "\n",
    "2. Significant Price Range: Item prices range from very low to extremely high, suggesting the catalog includes a wide variety of products catering to different customer segments.\n",
    "\n",
    "3. Diverse Customer Age Range: The average customer age is around 40, with a range from 18 to 70, showing the store attracts customers across different age groups."
   ]
  },
  {
   "cell_type": "code",
   "execution_count": 12,
   "id": "0c125457-645d-48b7-8137-a2610c7a72a5",
   "metadata": {},
   "outputs": [
    {
     "data": {
      "text/plain": [
       "1.25      92030\n",
       "1.65      63712\n",
       "0.85      59662\n",
       "2.95      57397\n",
       "0.42      39773\n",
       "          ...  \n",
       "57.49         1\n",
       "55.11         1\n",
       "40.13         1\n",
       "44.98         1\n",
       "224.69        1\n",
       "Name: Price, Length: 2649, dtype: int64"
      ]
     },
     "execution_count": 12,
     "metadata": {},
     "output_type": "execute_result"
    }
   ],
   "source": [
    "df['Price'].value_counts()"
   ]
  },
  {
   "cell_type": "markdown",
   "id": "c6e3737b-7226-4c8e-a8c5-34cd86e8fb91",
   "metadata": {},
   "source": [
    "## Univariate Analysis"
   ]
  },
  {
   "cell_type": "code",
   "execution_count": 13,
   "id": "18da00e7-966c-4937-ad36-9cfa45a3f50d",
   "metadata": {},
   "outputs": [
    {
     "data": {
      "image/png": "[encoded data removed]",
      "text/plain": [
       "<Figure size 1000x400 with 2 Axes>"
      ]
     },
     "metadata": {},
     "output_type": "display_data"
    },
    {
     "data": {
      "image/png": "[encoded data removed]",
      "text/plain": [
       "<Figure size 1000x400 with 2 Axes>"
      ]
     },
     "metadata": {},
     "output_type": "display_data"
    }
   ],
   "source": [
    "import matplotlib.pyplot as plt\n",
    "import numpy as np\n",
    "\n",
    "def univariate_analysis(df, columns):\n",
    "    for col in columns:\n",
    "        if col in df.columns:\n",
    "            # Check if the column is numerical\n",
    "            if np.issubdtype(df[col].dtype, np.number):\n",
    "                finite_values = df[col].dropna()\n",
    "                if finite_values.apply(np.isfinite).all():\n",
    "                    plt.figure(figsize=(10, 4))\n",
    "                    \n",
    "                    plt.subplot(1, 2, 1)\n",
    "                    plt.hist(finite_values, bins=30, edgecolor='k', alpha=0.7)\n",
    "                    plt.title(f'Histogram of {col}')\n",
    "                    plt.xlabel(col)\n",
    "                    plt.ylabel('Frequency')\n",
    "                    \n",
    "                    plt.subplot(1, 2, 2)\n",
    "                    plt.boxplot(finite_values, vert=False)\n",
    "                    plt.title(f'Boxplot of {col}')\n",
    "                    plt.xlabel(col)\n",
    "                    \n",
    "                    plt.show()\n",
    "                else:\n",
    "                    print(f\"Skipping column {col} due to non-finite values.\")\n",
    "            else:\n",
    "                # Categorical columns\n",
    "                non_null_values = df[col].dropna()\n",
    "                if not non_null_values.empty:\n",
    "                    plt.figure(figsize=(10, 6))\n",
    "                    non_null_values.value_counts().plot(kind='barh')\n",
    "                    plt.title(f'Countplot of {col}')\n",
    "                    plt.xlabel('Count')\n",
    "                    plt.ylabel(col)\n",
    "                    plt.show()\n",
    "                else:\n",
    "                    print(f\"Skipping column {col} due to null values.\")\n",
    "        else:\n",
    "            print(f\"Column {col} does not exist in the DataFrame.\")\n",
    "\n",
    "# Example usage:\n",
    "# Specify the columns you want to analyze\n",
    "columns_to_analyze = ['Quantity', 'Price']  # Replace with your column names\n",
    "univariate_analysis(df, columns_to_analyze)\n"
   ]
  },
  {
   "cell_type": "code",
   "execution_count": 14,
   "id": "4724bea7-dd05-42f9-9c34-2d610d4ba033",
   "metadata": {},
   "outputs": [
    {
     "name": "stdout",
     "output_type": "stream",
     "text": [
      "Column:  Quantity\n",
      "lower_bound:  0\n",
      "upper_bound:  23.5\n",
      "Removed outliers from Quantity.\n",
      "Column:  Price\n",
      "lower_bound:  0\n",
      "upper_bound:  8.75\n",
      "Removed outliers from Price.\n"
     ]
    },
    {
     "data": {
      "image/png": "[encoded data removed]",
      "text/plain": [
       "<Figure size 1000x400 with 2 Axes>"
      ]
     },
     "metadata": {},
     "output_type": "display_data"
    },
    {
     "data": {
      "image/png": "[encoded data removed]",
      "text/plain": [
       "<Figure size 1000x400 with 2 Axes>"
      ]
     },
     "metadata": {},
     "output_type": "display_data"
    }
   ],
   "source": [
    "#### Removing the Outliers from the quantity & Price\n",
    "\n",
    "def remove_outliers(df, columns):\n",
    "    for col in columns:\n",
    "        if col in df.columns and np.issubdtype(df[col].dtype, np.number):\n",
    "            print(\"Column: \", col)\n",
    "            Q1 = df[col].quantile(0.25)\n",
    "            Q3 = df[col].quantile(0.75)\n",
    "            IQR = Q3 - Q1\n",
    "            lower_bound = max(0, Q1 - 1.5 * IQR)\n",
    "            upper_bound = Q3 + 1.5 * IQR\n",
    "            print(\"lower_bound: \", lower_bound)\n",
    "            print(\"upper_bound: \", upper_bound)\n",
    "            df = df[(df[col] >= lower_bound) & (df[col] <= upper_bound)]\n",
    "            print(f\"Removed outliers from {col}.\")\n",
    "        else:\n",
    "            print(f\"Column {col} is not numerical or does not exist.\")\n",
    "    return df\n",
    "\n",
    "# Example usage:\n",
    "columns_to_clean = ['Quantity', 'Price']\n",
    "df = remove_outliers(df, columns_to_clean)\n",
    "\n",
    "# Verify the removal of outliers\n",
    "univariate_analysis(cleaned_data, columns_to_clean)"
   ]
  },
  {
   "cell_type": "code",
   "execution_count": null,
   "id": "1d168d3d-c44f-4737-af1b-bf0c9deb40b3",
   "metadata": {},
   "outputs": [],
   "source": []
  }
 ],
 "metadata": {
  "kernelspec": {
   "display_name": "Python 3 (ipykernel)",
   "language": "python",
   "name": "python3"
  },
  "language_info": {
   "codemirror_mode": {
    "name": "ipython",
    "version": 3
   },
   "file_extension": ".py",
   "mimetype": "text/x-python",
   "name": "python",
   "nbconvert_exporter": "python",
   "pygments_lexer": "ipython3",
   "version": "3.9.16"
  }
 },
 "nbformat": 4,
 "nbformat_minor": 5
}
